{
 "cells": [
  {
   "cell_type": "code",
   "execution_count": 1,
   "metadata": {
    "collapsed": false
   },
   "outputs": [],
   "source": [
    "import urllib.request as urlRequest;\n",
    "import zipfile;\n",
    "import os;\n",
    "import shutil;\n",
    "\n",
    "def moveFilesFolder(source, dest):\n",
    "    files = [f for f in os.listdir(source) if (\"DS_Store\" not in f)];\n",
    "    for f in files:\n",
    "        if(os.path.isfile(f)):\n",
    "            os.rename(source + f, dest + f);\n",
    "        else:\n",
    "            if(not os.path.isdir(dest + f + \"/\")):\n",
    "                os.makedirs(dest + f + \"/\");\n",
    "                moveFilesFolder(source + f, dest + f + \"/\");"
   ]
  },
  {
   "cell_type": "code",
   "execution_count": null,
   "metadata": {
    "collapsed": true
   },
   "outputs": [],
   "source": [
    "urlRequest.urlretrieve(\"https://github.com/amidos2006/DeepTingle/archive/master.zip\", \"deeptingle.zip\");\n",
    "zipRef = zipfile.ZipFile(\"deeptingle.zip\", 'r');\n",
    "zipRef.extractall(\"\");\n",
    "zipRef.close();\n",
    "\n",
    "os.remove(\"deeptingle.zip\");\n",
    "moveFilesFolder(\"DeepTingle-master/\", \"\");\n",
    "os.rmdir(\"DeepTingle-master/\");"
   ]
  },
  {
   "cell_type": "code",
   "execution_count": null,
   "metadata": {
    "collapsed": false
   },
   "outputs": [],
   "source": [
    "#urlRequest.urlretrieve(\"http://nlp.stanford.edu/data/glove.6B.zip\", \"glove-wiki.zip\");\n",
    "zipRef = zipfile.ZipFile(\"glove-wiki.zip\", 'r');\n",
    "zipRef.extractall(\"\");\n",
    "zipRef.close();\n",
    "\n",
    "os.remove(\"glove-wiki.zip\");"
   ]
  },
  {
   "cell_type": "code",
   "execution_count": 3,
   "metadata": {
    "collapsed": true
   },
   "outputs": [],
   "source": [
    "urlRequest.urlretrieve(\"https://dl.dropboxusercontent.com/u/9791999/tingle-vectors-300.txt\", \"GloveData/tingle-vectors-300.txt\");"
   ]
  },
  {
   "cell_type": "code",
   "execution_count": null,
   "metadata": {
    "collapsed": true
   },
   "outputs": [],
   "source": []
  }
 ],
 "metadata": {
  "kernelspec": {
   "display_name": "Python 3.5",
   "language": "python",
   "name": "python3"
  },
  "language_info": {
   "codemirror_mode": {
    "name": "ipython",
    "version": 3
   },
   "file_extension": ".py",
   "mimetype": "text/x-python",
   "name": "python",
   "nbconvert_exporter": "python",
   "pygments_lexer": "ipython3",
   "version": "3.5.1"
  }
 },
 "nbformat": 4,
 "nbformat_minor": 1
}
